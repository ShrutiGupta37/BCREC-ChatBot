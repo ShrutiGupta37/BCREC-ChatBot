{
 "cells": [
  {
   "cell_type": "code",
   "execution_count": 1,
   "metadata": {},
   "outputs": [
    {
     "name": "stderr",
     "output_type": "stream",
     "text": [
      "[nltk_data] Downloading package punkt to\n",
      "[nltk_data]     C:\\Users\\Asus\\AppData\\Roaming\\nltk_data...\n",
      "[nltk_data]   Package punkt is already up-to-date!\n"
     ]
    },
    {
     "data": {
      "text/plain": [
       "True"
      ]
     },
     "execution_count": 1,
     "metadata": {},
     "output_type": "execute_result"
    }
   ],
   "source": [
    "import os\n",
    "import nltk\n",
    "import ssl\n",
    "import streamlit as st\n",
    "import random\n",
    "from sklearn.feature_extraction.text import TfidfVectorizer\n",
    "from sklearn.linear_model import LogisticRegression\n",
    "\n",
    "ssl._create_default_https_context = ssl._create_unverified_context\n",
    "nltk.data.path.append(os.path.abspath(\"nltk_data\"))\n",
    "nltk.download('punkt')"
   ]
  },
  {
   "cell_type": "code",
   "execution_count": 2,
   "metadata": {},
   "outputs": [],
   "source": [
    "# pip install streamlit\n"
   ]
  },
  {
   "cell_type": "code",
   "execution_count": 3,
   "metadata": {},
   "outputs": [],
   "source": [
    "intents=[\n",
    "     {\n",
    "            \"tag\": \"college_name\",\n",
    "            \"patterns\": [\n",
    "                \"college name?\",\n",
    "                \"name of the college?\",\n",
    "                \"Tell me about your college\",\n",
    "                \"name of the institution?\"\n",
    "            ],\n",
    "            \"responses\": [\n",
    "                \"The name of the college is Dr. B.C. Roy Engineering College.\",\n",
    "                \"Our college is known as Dr. B.C. Roy Engineering College. You can find more details on our website: https://bcrec.ac.in/.\"\n",
    "            ]\n",
    "        },\n",
    "        {\n",
    "            \"tag\": \"hod_details\",\n",
    "            \"patterns\": [\n",
    "                \"HOD of Civil Engineering?\",\n",
    "                \"about the department heads.\",\n",
    "                \"head the Mechanical Engineering department?\",\n",
    "                \"head the Compurte Science & Engineering department?\",\n",
    "                \"HOD\",\"head of the department\"\n",
    "            ],\n",
    "            \"responses\": [\n",
    "                \"Here are the HODs of various departments:- Civil Engineering: Dr. Sanjay Sengupta\\n- Mechanical Engineering: Dr. Chandan Chattoraj\\n- Electrical Engineering: Dr. Susanta Dutta\\n- Electronics and Communication Engineering (ECE): Dr. Narendra Nath Pathak\\n- Computer Science and Design (CSD): Dr. Raj Kumar Samanta\\n- Computer Science and Engineering (CSE): Dr. Arindam Ghosh\\n- Computer Science and Engineering (Data Science): Dr. Chandan Bandyopadhyay\\n- Artificial Intelligence and Machine Learning (AIML): Dr. Gour Sundar Mitra Thakur\"\n",
    "            ]\n",
    "        },\n",
    "        {\n",
    "            \"tag\": \"principal_details\",\n",
    "            \"patterns\": [\n",
    "                \"principal of the college?\",\n",
    "                \"about the principal.\",\n",
    "                \"Principal\",\n",
    "                \"Who is principal?\"\n",
    "            ],\n",
    "            \"responses\": [\n",
    "                \"The principal of Dr. B.C. Roy Engineering College is Dr. Sanjay S. Pawar, Ph.D.\"\n",
    "            ]\n",
    "        },\n",
    "        {\n",
    "            \"tag\": \"placement_details\",\n",
    "            \"patterns\": [\n",
    "                \"placement details\",\n",
    "                \"about placements at the college.\",\n",
    "                \"Which companies visit for placements?\",\n",
    "                \"Placement\",\"How is the placement?\"\n",
    "            ],\n",
    "            \"responses\": [\n",
    "                \"Dr. B.C. Roy Engineering College has a strong placement record. Major recruiters include Accenture, IBM, Infosys, Wipro, Cognizant, Capgemini, Jaro, Koyo, Indus Net, TCS, and others. In 2023, the average package for Computer Science and Engineering students was INR 3.80 Lakh, with the highest package reaching INR 14.00 Lakh.\"\n",
    "            ]\n",
    "        },\n",
    "        {\n",
    "            \"tag\": \"scholarships\",\n",
    "            \"patterns\": [\n",
    "                \"What scholarships are available?\",\n",
    "                \"about scholarships at the college.\",\n",
    "                \"Are there any financial aids for students?\",\"Scholarship\",\"different kind of scholarship\"\n",
    "            ],\n",
    "            \"responses\": [\n",
    "                \"Scholarships offered include:\\n- Tuition Fee Waiver (TFW) Scheme: For economically backward meritorious students.\\n- West Bengal Financial Scheme (WBFS): For economically backward meritorious students.\\nEligibility criteria include academic merit, family income, and category-based considerations.\"\n",
    "            ]\n",
    "        },\n",
    "        {\n",
    "            \"tag\": \"facilities\",\n",
    "            \"patterns\": [\n",
    "                \"What facilities does the college provide?\",\n",
    "                \"about the infrastructure\",\n",
    "                \"about hostels\",\"Hostels\",\"Sports\",\"about sports\",\"infrastructure\",\"Facilities\",\"different kind of facility\",\n",
    "                \"Are there hostels and sports facilities?\"\n",
    "            ],\n",
    "            \"responses\": [\n",
    "                \"Facilities include:\\n- Academic: Well-equipped classrooms, laboratories, and libraries.\\n- Sports: Football ground, cricket playground, basketball court, multi-gym.\\n- Recreational: Music room, canteen, food court.\\n- Hostel: Four large hostels.\\n- Others: Auditorium, bank, and online class facilities.\"\n",
    "            ]\n",
    "        },\n",
    "        {\n",
    "            \"tag\": \"admission_process\",\n",
    "            \"patterns\": [\n",
    "                \"What is the admission process?\",\n",
    "                \"admission process\",\"about admission process\",\"Admission\",\"how to apply\",\"application\",\n",
    "                \"How can I apply to the college?\"\n",
    "            ],\n",
    "            \"responses\": [\n",
    "                \"Admissions are based on WBJEE or JEE Mains ranks. The process involves entrance exams, counseling, document verification, and fee payment. For more details, visit the admission section on our website: https://bcrec.ac.in/.\"\n",
    "            ]\n",
    "        },\n",
    "        {\n",
    "            \"tag\": \"fee_structure\",\n",
    "            \"patterns\": [\n",
    "                \"fee structure\",\"cost\",\"Fee\",\"semester fee\",\n",
    "                \"How much is the semester fee?\",\n",
    "                \"about the tuition fees.\",\"tuition fees\",\"payment process for fees\"\n",
    "            ],\n",
    "            \"responses\": [\n",
    "                \"Fee structure per semester (without hostel):\\n- CSE/IT/ECE: ₹71,050\\n- EE/ME/CE/CSD: ₹67,050\\n\\nWith hostel:\\n- CSE/IT/ECE: ₹1,06,050\\n- EE/ME/CE/CSD: ₹1,02,050\"\n",
    "            ]\n",
    "        },\n",
    "        {\n",
    "            \"tag\": \"anti_ragging\",\n",
    "            \"patterns\": [\n",
    "                \"anti-ragging policy\",\"Ragging\",\"anti-ragging\",\"anti-ragging comitte\",\n",
    "                \"How college handle ragging?\"\n",
    "            ],\n",
    "            \"responses\": [\n",
    "                \"Dr. B.C. Roy Engineering College has a strict anti-ragging policy. The college has an active Anti-Ragging Committee and organizes awareness programs to prevent ragging. Students can report incidents to the Anti-Ragging Committee or college authorities.\"\n",
    "            ]\n",
    "        },\n",
    "        {\n",
    "            \"tag\": \"uniform_details\",\n",
    "            \"patterns\": [\n",
    "                \"dress code\",\"uniform\",\n",
    "                \"What is the dress code?\",\n",
    "                \"Is there a uniform for students?\"\n",
    "            ],\n",
    "            \"responses\": [\n",
    "                \"Dress code:\\nFor Men: Navy blue trousers, light blue shirt, emblem-emblazoned green/yellow/black ties, black formal shoes. Navy blue blazer in winter.\\nFor Women: Navy blue salwar and light blue kameez or trousers and shirts, emblem-emblazoned green ties, black formal shoes. Navy blue blazer in winter.\"\n",
    "            ]\n",
    "        }]"
   ]
  },
  {
   "cell_type": "code",
   "execution_count": 4,
   "metadata": {},
   "outputs": [
    {
     "data": {
      "text/html": [
       "<style>#sk-container-id-1 {color: black;}#sk-container-id-1 pre{padding: 0;}#sk-container-id-1 div.sk-toggleable {background-color: white;}#sk-container-id-1 label.sk-toggleable__label {cursor: pointer;display: block;width: 100%;margin-bottom: 0;padding: 0.3em;box-sizing: border-box;text-align: center;}#sk-container-id-1 label.sk-toggleable__label-arrow:before {content: \"▸\";float: left;margin-right: 0.25em;color: #696969;}#sk-container-id-1 label.sk-toggleable__label-arrow:hover:before {color: black;}#sk-container-id-1 div.sk-estimator:hover label.sk-toggleable__label-arrow:before {color: black;}#sk-container-id-1 div.sk-toggleable__content {max-height: 0;max-width: 0;overflow: hidden;text-align: left;background-color: #f0f8ff;}#sk-container-id-1 div.sk-toggleable__content pre {margin: 0.2em;color: black;border-radius: 0.25em;background-color: #f0f8ff;}#sk-container-id-1 input.sk-toggleable__control:checked~div.sk-toggleable__content {max-height: 200px;max-width: 100%;overflow: auto;}#sk-container-id-1 input.sk-toggleable__control:checked~label.sk-toggleable__label-arrow:before {content: \"▾\";}#sk-container-id-1 div.sk-estimator input.sk-toggleable__control:checked~label.sk-toggleable__label {background-color: #d4ebff;}#sk-container-id-1 div.sk-label input.sk-toggleable__control:checked~label.sk-toggleable__label {background-color: #d4ebff;}#sk-container-id-1 input.sk-hidden--visually {border: 0;clip: rect(1px 1px 1px 1px);clip: rect(1px, 1px, 1px, 1px);height: 1px;margin: -1px;overflow: hidden;padding: 0;position: absolute;width: 1px;}#sk-container-id-1 div.sk-estimator {font-family: monospace;background-color: #f0f8ff;border: 1px dotted black;border-radius: 0.25em;box-sizing: border-box;margin-bottom: 0.5em;}#sk-container-id-1 div.sk-estimator:hover {background-color: #d4ebff;}#sk-container-id-1 div.sk-parallel-item::after {content: \"\";width: 100%;border-bottom: 1px solid gray;flex-grow: 1;}#sk-container-id-1 div.sk-label:hover label.sk-toggleable__label {background-color: #d4ebff;}#sk-container-id-1 div.sk-serial::before {content: \"\";position: absolute;border-left: 1px solid gray;box-sizing: border-box;top: 0;bottom: 0;left: 50%;z-index: 0;}#sk-container-id-1 div.sk-serial {display: flex;flex-direction: column;align-items: center;background-color: white;padding-right: 0.2em;padding-left: 0.2em;position: relative;}#sk-container-id-1 div.sk-item {position: relative;z-index: 1;}#sk-container-id-1 div.sk-parallel {display: flex;align-items: stretch;justify-content: center;background-color: white;position: relative;}#sk-container-id-1 div.sk-item::before, #sk-container-id-1 div.sk-parallel-item::before {content: \"\";position: absolute;border-left: 1px solid gray;box-sizing: border-box;top: 0;bottom: 0;left: 50%;z-index: -1;}#sk-container-id-1 div.sk-parallel-item {display: flex;flex-direction: column;z-index: 1;position: relative;background-color: white;}#sk-container-id-1 div.sk-parallel-item:first-child::after {align-self: flex-end;width: 50%;}#sk-container-id-1 div.sk-parallel-item:last-child::after {align-self: flex-start;width: 50%;}#sk-container-id-1 div.sk-parallel-item:only-child::after {width: 0;}#sk-container-id-1 div.sk-dashed-wrapped {border: 1px dashed gray;margin: 0 0.4em 0.5em 0.4em;box-sizing: border-box;padding-bottom: 0.4em;background-color: white;}#sk-container-id-1 div.sk-label label {font-family: monospace;font-weight: bold;display: inline-block;line-height: 1.2em;}#sk-container-id-1 div.sk-label-container {text-align: center;}#sk-container-id-1 div.sk-container {/* jupyter's `normalize.less` sets `[hidden] { display: none; }` but bootstrap.min.css set `[hidden] { display: none !important; }` so we also need the `!important` here to be able to override the default hidden behavior on the sphinx rendered scikit-learn.org. See: https://github.com/scikit-learn/scikit-learn/issues/21755 */display: inline-block !important;position: relative;}#sk-container-id-1 div.sk-text-repr-fallback {display: none;}</style><div id=\"sk-container-id-1\" class=\"sk-top-container\"><div class=\"sk-text-repr-fallback\"><pre>LogisticRegression(max_iter=10000, random_state=0)</pre><b>In a Jupyter environment, please rerun this cell to show the HTML representation or trust the notebook. <br />On GitHub, the HTML representation is unable to render, please try loading this page with nbviewer.org.</b></div><div class=\"sk-container\" hidden><div class=\"sk-item\"><div class=\"sk-estimator sk-toggleable\"><input class=\"sk-toggleable__control sk-hidden--visually\" id=\"sk-estimator-id-1\" type=\"checkbox\" checked><label for=\"sk-estimator-id-1\" class=\"sk-toggleable__label sk-toggleable__label-arrow\">LogisticRegression</label><div class=\"sk-toggleable__content\"><pre>LogisticRegression(max_iter=10000, random_state=0)</pre></div></div></div></div></div>"
      ],
      "text/plain": [
       "LogisticRegression(max_iter=10000, random_state=0)"
      ]
     },
     "execution_count": 4,
     "metadata": {},
     "output_type": "execute_result"
    }
   ],
   "source": [
    "# Create the vectorizer and classifier\n",
    "vectorizer = TfidfVectorizer()\n",
    "clf = LogisticRegression(random_state=0, max_iter=10000)\n",
    "\n",
    "# Preprocess the data\n",
    "tags = []\n",
    "patterns = []\n",
    "for intent in intents:\n",
    "    for pattern in intent['patterns']:\n",
    "        tags.append(intent['tag'])\n",
    "        patterns.append(pattern)\n",
    "\n",
    "# training the model\n",
    "x = vectorizer.fit_transform(patterns)\n",
    "y = tags\n",
    "clf.fit(x, y)"
   ]
  },
  {
   "cell_type": "code",
   "execution_count": 5,
   "metadata": {},
   "outputs": [],
   "source": [
    "def chatbot(input_text):\n",
    "    input_text = vectorizer.transform([input_text])\n",
    "    tag = clf.predict(input_text)[0]\n",
    "    for intent in intents:\n",
    "        if intent['tag'] == tag:\n",
    "            response = random.choice(intent['responses'])\n",
    "            return response"
   ]
  },
  {
   "cell_type": "code",
   "execution_count": 6,
   "metadata": {},
   "outputs": [
    {
     "name": "stdout",
     "output_type": "stream",
     "text": [
      "Our college is known as Dr. B.C. Roy Engineering College. You can find more details on our website: https://bcrec.ac.in/.\n"
     ]
    }
   ],
   "source": [
    "chat_1=chatbot(\"name of the college\")\n",
    "print(chat_1)"
   ]
  },
  {
   "cell_type": "code",
   "execution_count": 7,
   "metadata": {},
   "outputs": [
    {
     "name": "stdout",
     "output_type": "stream",
     "text": [
      "Here are the HODs of various departments:- Civil Engineering: Dr. Sanjay Sengupta\n",
      "- Mechanical Engineering: Dr. Chandan Chattoraj\n",
      "- Electrical Engineering: Dr. Susanta Dutta\n",
      "- Electronics and Communication Engineering (ECE): Dr. Narendra Nath Pathak\n",
      "- Computer Science and Design (CSD): Dr. Raj Kumar Samanta\n",
      "- Computer Science and Engineering (CSE): Dr. Arindam Ghosh\n",
      "- Computer Science and Engineering (Data Science): Dr. Chandan Bandyopadhyay\n",
      "- Artificial Intelligence and Machine Learning (AIML): Dr. Gour Sundar Mitra Thakur\n"
     ]
    }
   ],
   "source": [
    "chat_1=chatbot(\"who is the computer science and engineering department HOD?\")\n",
    "print(chat_1)"
   ]
  },
  {
   "cell_type": "code",
   "execution_count": 8,
   "metadata": {},
   "outputs": [
    {
     "name": "stderr",
     "output_type": "stream",
     "text": [
      "2024-12-05 15:43:19.903 WARNING streamlit.runtime.scriptrunner_utils.script_run_context: Thread 'MainThread': missing ScriptRunContext! This warning can be ignored when running in bare mode.\n",
      "2024-12-05 15:43:21.379 \n",
      "  \u001b[33m\u001b[1mWarning:\u001b[0m to view this Streamlit app on a browser, run it with the following\n",
      "  command:\n",
      "\n",
      "    streamlit run C:\\ProgramData\\anaconda3\\Lib\\site-packages\\ipykernel_launcher.py [ARGUMENTS]\n",
      "2024-12-05 15:43:21.381 Thread 'MainThread': missing ScriptRunContext! This warning can be ignored when running in bare mode.\n",
      "2024-12-05 15:43:21.382 Thread 'MainThread': missing ScriptRunContext! This warning can be ignored when running in bare mode.\n",
      "2024-12-05 15:43:21.384 Thread 'MainThread': missing ScriptRunContext! This warning can be ignored when running in bare mode.\n",
      "2024-12-05 15:43:21.386 Thread 'MainThread': missing ScriptRunContext! This warning can be ignored when running in bare mode.\n",
      "2024-12-05 15:43:21.387 Thread 'MainThread': missing ScriptRunContext! This warning can be ignored when running in bare mode.\n",
      "2024-12-05 15:43:21.389 Thread 'MainThread': missing ScriptRunContext! This warning can be ignored when running in bare mode.\n",
      "2024-12-05 15:43:21.390 Thread 'MainThread': missing ScriptRunContext! This warning can be ignored when running in bare mode.\n",
      "2024-12-05 15:43:21.391 Thread 'MainThread': missing ScriptRunContext! This warning can be ignored when running in bare mode.\n",
      "2024-12-05 15:43:21.393 Thread 'MainThread': missing ScriptRunContext! This warning can be ignored when running in bare mode.\n",
      "2024-12-05 15:43:21.398 Session state does not function when running a script without `streamlit run`\n",
      "2024-12-05 15:43:21.400 Thread 'MainThread': missing ScriptRunContext! This warning can be ignored when running in bare mode.\n",
      "2024-12-05 15:43:21.402 Thread 'MainThread': missing ScriptRunContext! This warning can be ignored when running in bare mode.\n"
     ]
    }
   ],
   "source": [
    "counter = 0\n",
    "\n",
    "def main():\n",
    "    global counter\n",
    "    st.title(\"Chatbot\")\n",
    "    st.write(\"Welcome to the chatbot. Please type a message and press Enter to start the conversation.\")\n",
    "\n",
    "    counter += 1\n",
    "    user_input = st.text_input(\"You:\", key=f\"user_input_{counter}\")\n",
    "\n",
    "    if user_input:\n",
    "        response = chatbot(user_input)\n",
    "        st.text_area(\"Chatbot:\", value=response, height=100, max_chars=None, key=f\"chatbot_response_{counter}\")\n",
    "\n",
    "        if response.lower() in ['goodbye', 'bye']:\n",
    "            st.write(\"Thank you for chatting with me. Have a great day!\")\n",
    "            st.stop()\n",
    "\n",
    "if __name__ == '__main__':\n",
    "    main()"
   ]
  },
  {
   "cell_type": "code",
   "execution_count": null,
   "metadata": {},
   "outputs": [],
   "source": []
  }
 ],
 "metadata": {
  "kernelspec": {
   "display_name": "Python 3 (ipykernel)",
   "language": "python",
   "name": "python3"
  },
  "language_info": {
   "codemirror_mode": {
    "name": "ipython",
    "version": 3
   },
   "file_extension": ".py",
   "mimetype": "text/x-python",
   "name": "python",
   "nbconvert_exporter": "python",
   "pygments_lexer": "ipython3",
   "version": "3.11.5"
  }
 },
 "nbformat": 4,
 "nbformat_minor": 2
}
